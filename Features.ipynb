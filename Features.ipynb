{
 "cells": [
  {
   "cell_type": "markdown",
   "metadata": {},
   "source": [
    "# Features"
   ]
  },
  {
   "cell_type": "code",
   "execution_count": 1,
   "metadata": {
    "collapsed": true
   },
   "outputs": [],
   "source": [
    "import os\n",
    "import re\n",
    "import numpy as np\n",
    "import pandas as pd\n",
    "from collections import Counter\n",
    "\n",
    "from viz import local\n",
    "viz = local.VizNotebook()\n",
    "\n",
    "import nltk\n",
    "stopwords = nltk.corpus.stopwords.words('english')"
   ]
  },
  {
   "cell_type": "code",
   "execution_count": 2,
   "metadata": {},
   "outputs": [
    {
     "data": {
      "text/html": [
       "<div>\n",
       "<style>\n",
       "    .dataframe thead tr:only-child th {\n",
       "        text-align: right;\n",
       "    }\n",
       "\n",
       "    .dataframe thead th {\n",
       "        text-align: left;\n",
       "    }\n",
       "\n",
       "    .dataframe tbody tr th {\n",
       "        vertical-align: top;\n",
       "    }\n",
       "</style>\n",
       "<table border=\"1\" class=\"dataframe\">\n",
       "  <thead>\n",
       "    <tr style=\"text-align: right;\">\n",
       "      <th></th>\n",
       "      <th>category</th>\n",
       "      <th>stat</th>\n",
       "      <th>stat_desc</th>\n",
       "      <th>city</th>\n",
       "      <th>zip</th>\n",
       "      <th>year</th>\n",
       "      <th>month</th>\n",
       "      <th>day</th>\n",
       "      <th>weekday</th>\n",
       "      <th>hour</th>\n",
       "      <th>longitude</th>\n",
       "      <th>latitude</th>\n",
       "      <th>gang_related</th>\n",
       "      <th>aggravated</th>\n",
       "      <th>incident_date</th>\n",
       "    </tr>\n",
       "  </thead>\n",
       "  <tbody>\n",
       "    <tr>\n",
       "      <th>0</th>\n",
       "      <td>vehicle</td>\n",
       "      <td>255</td>\n",
       "      <td>vehicle and boating laws: misdemeanor</td>\n",
       "      <td>covina</td>\n",
       "      <td>91722</td>\n",
       "      <td>2016</td>\n",
       "      <td>11</td>\n",
       "      <td>13</td>\n",
       "      <td>6</td>\n",
       "      <td>14.250000</td>\n",
       "      <td>-117.884594</td>\n",
       "      <td>34.106730</td>\n",
       "      <td>0</td>\n",
       "      <td>0</td>\n",
       "      <td>2016-11-13</td>\n",
       "    </tr>\n",
       "    <tr>\n",
       "      <th>1</th>\n",
       "      <td>gta</td>\n",
       "      <td>93</td>\n",
       "      <td>grand theft vehicle (gta): truck, motor home, ...</td>\n",
       "      <td>west valinda</td>\n",
       "      <td>91746</td>\n",
       "      <td>2016</td>\n",
       "      <td>12</td>\n",
       "      <td>29</td>\n",
       "      <td>3</td>\n",
       "      <td>9.500000</td>\n",
       "      <td>-117.971268</td>\n",
       "      <td>34.064801</td>\n",
       "      <td>0</td>\n",
       "      <td>0</td>\n",
       "      <td>2016-12-29</td>\n",
       "    </tr>\n",
       "    <tr>\n",
       "      <th>2</th>\n",
       "      <td>federal</td>\n",
       "      <td>315</td>\n",
       "      <td>federal offenses with money: counterfeiting u....</td>\n",
       "      <td>agoura hills</td>\n",
       "      <td>91301</td>\n",
       "      <td>2016</td>\n",
       "      <td>12</td>\n",
       "      <td>30</td>\n",
       "      <td>4</td>\n",
       "      <td>15.733333</td>\n",
       "      <td>-118.760000</td>\n",
       "      <td>34.120000</td>\n",
       "      <td>0</td>\n",
       "      <td>0</td>\n",
       "      <td>2016-12-30</td>\n",
       "    </tr>\n",
       "    <tr>\n",
       "      <th>3</th>\n",
       "      <td>sex</td>\n",
       "      <td>129</td>\n",
       "      <td>sex felonies: all other sex felonies</td>\n",
       "      <td>rancho palos verdes</td>\n",
       "      <td>90275</td>\n",
       "      <td>2016</td>\n",
       "      <td>4</td>\n",
       "      <td>29</td>\n",
       "      <td>4</td>\n",
       "      <td>18.250000</td>\n",
       "      <td>-118.330651</td>\n",
       "      <td>33.736982</td>\n",
       "      <td>0</td>\n",
       "      <td>0</td>\n",
       "      <td>2016-04-29</td>\n",
       "    </tr>\n",
       "    <tr>\n",
       "      <th>4</th>\n",
       "      <td>vehicle</td>\n",
       "      <td>255</td>\n",
       "      <td>vehicle and boating laws: misdemeanor</td>\n",
       "      <td>la puente</td>\n",
       "      <td>91744</td>\n",
       "      <td>2016</td>\n",
       "      <td>5</td>\n",
       "      <td>19</td>\n",
       "      <td>3</td>\n",
       "      <td>7.417222</td>\n",
       "      <td>-117.961194</td>\n",
       "      <td>34.034889</td>\n",
       "      <td>0</td>\n",
       "      <td>0</td>\n",
       "      <td>2016-05-19</td>\n",
       "    </tr>\n",
       "  </tbody>\n",
       "</table>\n",
       "</div>"
      ],
      "text/plain": [
       "  category  stat                                          stat_desc  \\\n",
       "0  vehicle   255              vehicle and boating laws: misdemeanor   \n",
       "1      gta    93  grand theft vehicle (gta): truck, motor home, ...   \n",
       "2  federal   315  federal offenses with money: counterfeiting u....   \n",
       "3      sex   129               sex felonies: all other sex felonies   \n",
       "4  vehicle   255              vehicle and boating laws: misdemeanor   \n",
       "\n",
       "                  city    zip  year  month  day  weekday       hour  \\\n",
       "0               covina  91722  2016     11   13        6  14.250000   \n",
       "1         west valinda  91746  2016     12   29        3   9.500000   \n",
       "2         agoura hills  91301  2016     12   30        4  15.733333   \n",
       "3  rancho palos verdes  90275  2016      4   29        4  18.250000   \n",
       "4            la puente  91744  2016      5   19        3   7.417222   \n",
       "\n",
       "    longitude   latitude  gang_related  aggravated incident_date  \n",
       "0 -117.884594  34.106730             0           0    2016-11-13  \n",
       "1 -117.971268  34.064801             0           0    2016-12-29  \n",
       "2 -118.760000  34.120000             0           0    2016-12-30  \n",
       "3 -118.330651  33.736982             0           0    2016-04-29  \n",
       "4 -117.961194  34.034889             0           0    2016-05-19  "
      ]
     },
     "execution_count": 2,
     "metadata": {},
     "output_type": "execute_result"
    }
   ],
   "source": [
    "YEAR = 2016\n",
    "\n",
    "sample = pd.read_csv('data/F{}.csv'.format(YEAR))\n",
    "sample.head()"
   ]
  },
  {
   "cell_type": "code",
   "execution_count": 3,
   "metadata": {},
   "outputs": [
    {
     "name": "stdout",
     "output_type": "stream",
     "text": [
      "162825\n",
      "126207\n"
     ]
    }
   ],
   "source": [
    "print(len(sample))\n",
    "print(len(sample[-sample['stat_desc'].str.contains('misd')]))"
   ]
  },
  {
   "cell_type": "markdown",
   "metadata": {},
   "source": [
    "### 1. Categorical"
   ]
  },
  {
   "cell_type": "code",
   "execution_count": 4,
   "metadata": {},
   "outputs": [
    {
     "data": {
      "text/html": [
       "<div>\n",
       "<style>\n",
       "    .dataframe thead tr:only-child th {\n",
       "        text-align: right;\n",
       "    }\n",
       "\n",
       "    .dataframe thead th {\n",
       "        text-align: left;\n",
       "    }\n",
       "\n",
       "    .dataframe tbody tr th {\n",
       "        vertical-align: top;\n",
       "    }\n",
       "</style>\n",
       "<table border=\"1\" class=\"dataframe\">\n",
       "  <thead>\n",
       "    <tr style=\"text-align: right;\">\n",
       "      <th></th>\n",
       "      <th>category</th>\n",
       "      <th>count</th>\n",
       "    </tr>\n",
       "  </thead>\n",
       "  <tbody>\n",
       "    <tr>\n",
       "      <th>13</th>\n",
       "      <td>larceny</td>\n",
       "      <td>35489</td>\n",
       "    </tr>\n",
       "    <tr>\n",
       "      <th>1</th>\n",
       "      <td>assault</td>\n",
       "      <td>22113</td>\n",
       "    </tr>\n",
       "    <tr>\n",
       "      <th>2</th>\n",
       "      <td>burglary</td>\n",
       "      <td>12982</td>\n",
       "    </tr>\n",
       "    <tr>\n",
       "      <th>11</th>\n",
       "      <td>gta</td>\n",
       "      <td>12701</td>\n",
       "    </tr>\n",
       "    <tr>\n",
       "      <th>9</th>\n",
       "      <td>fraud</td>\n",
       "      <td>7645</td>\n",
       "    </tr>\n",
       "    <tr>\n",
       "      <th>20</th>\n",
       "      <td>vandalism</td>\n",
       "      <td>6378</td>\n",
       "    </tr>\n",
       "    <tr>\n",
       "      <th>15</th>\n",
       "      <td>narcotics</td>\n",
       "      <td>5787</td>\n",
       "    </tr>\n",
       "    <tr>\n",
       "      <th>17</th>\n",
       "      <td>robbery</td>\n",
       "      <td>4695</td>\n",
       "    </tr>\n",
       "    <tr>\n",
       "      <th>23</th>\n",
       "      <td>weapon</td>\n",
       "      <td>2917</td>\n",
       "    </tr>\n",
       "    <tr>\n",
       "      <th>7</th>\n",
       "      <td>felonies</td>\n",
       "      <td>2353</td>\n",
       "    </tr>\n",
       "    <tr>\n",
       "      <th>8</th>\n",
       "      <td>forgery</td>\n",
       "      <td>2278</td>\n",
       "    </tr>\n",
       "    <tr>\n",
       "      <th>4</th>\n",
       "      <td>dui</td>\n",
       "      <td>1924</td>\n",
       "    </tr>\n",
       "    <tr>\n",
       "      <th>14</th>\n",
       "      <td>liquor</td>\n",
       "      <td>1704</td>\n",
       "    </tr>\n",
       "    <tr>\n",
       "      <th>3</th>\n",
       "      <td>drunk</td>\n",
       "      <td>1694</td>\n",
       "    </tr>\n",
       "    <tr>\n",
       "      <th>18</th>\n",
       "      <td>sex</td>\n",
       "      <td>1197</td>\n",
       "    </tr>\n",
       "    <tr>\n",
       "      <th>5</th>\n",
       "      <td>family</td>\n",
       "      <td>1174</td>\n",
       "    </tr>\n",
       "    <tr>\n",
       "      <th>16</th>\n",
       "      <td>rape</td>\n",
       "      <td>730</td>\n",
       "    </tr>\n",
       "    <tr>\n",
       "      <th>6</th>\n",
       "      <td>federal</td>\n",
       "      <td>668</td>\n",
       "    </tr>\n",
       "    <tr>\n",
       "      <th>21</th>\n",
       "      <td>vehicle</td>\n",
       "      <td>602</td>\n",
       "    </tr>\n",
       "    <tr>\n",
       "      <th>0</th>\n",
       "      <td>arson</td>\n",
       "      <td>507</td>\n",
       "    </tr>\n",
       "    <tr>\n",
       "      <th>19</th>\n",
       "      <td>vagrancy</td>\n",
       "      <td>348</td>\n",
       "    </tr>\n",
       "    <tr>\n",
       "      <th>12</th>\n",
       "      <td>homicide</td>\n",
       "      <td>215</td>\n",
       "    </tr>\n",
       "    <tr>\n",
       "      <th>22</th>\n",
       "      <td>warrants</td>\n",
       "      <td>81</td>\n",
       "    </tr>\n",
       "    <tr>\n",
       "      <th>10</th>\n",
       "      <td>gambling</td>\n",
       "      <td>25</td>\n",
       "    </tr>\n",
       "  </tbody>\n",
       "</table>\n",
       "</div>"
      ],
      "text/plain": [
       "     category  count\n",
       "13    larceny  35489\n",
       "1     assault  22113\n",
       "2    burglary  12982\n",
       "11        gta  12701\n",
       "9       fraud   7645\n",
       "20  vandalism   6378\n",
       "15  narcotics   5787\n",
       "17    robbery   4695\n",
       "23     weapon   2917\n",
       "7    felonies   2353\n",
       "8     forgery   2278\n",
       "4         dui   1924\n",
       "14     liquor   1704\n",
       "3       drunk   1694\n",
       "18        sex   1197\n",
       "5      family   1174\n",
       "16       rape    730\n",
       "6     federal    668\n",
       "21    vehicle    602\n",
       "0       arson    507\n",
       "19   vagrancy    348\n",
       "12   homicide    215\n",
       "22   warrants     81\n",
       "10   gambling     25"
      ]
     },
     "execution_count": 4,
     "metadata": {},
     "output_type": "execute_result"
    }
   ],
   "source": [
    "sample = sample[-sample['stat_desc'].str.contains('misd')]\n",
    "\n",
    "cat = sample.groupby(['category'])\\\n",
    "            .size().reset_index(name='count')\\\n",
    "            .sort_values('count', ascending = False)\n",
    "cat"
   ]
  },
  {
   "cell_type": "code",
   "execution_count": 5,
   "metadata": {
    "collapsed": true
   },
   "outputs": [],
   "source": [
    "cat = cat['category'].tolist()\n",
    "violent = ['assault','arson','burglary','homicide','rape','robbery','vandalism']\n",
    "terms = [t for t in re.split('[\\W+]',' '.join(sample[sample['category'].isin(violent)]['stat_desc'].tolist())) \\\n",
    "             if len(t) > 1 and t not in cat and t not in stopwords]"
   ]
  },
  {
   "cell_type": "code",
   "execution_count": 6,
   "metadata": {},
   "outputs": [
    {
     "name": "stdout",
     "output_type": "stream",
     "text": [
      "182674\n"
     ]
    },
    {
     "data": {
      "text/plain": [
       "[('non', 15253),\n",
       " ('aggravated', 13014),\n",
       " ('force', 12907),\n",
       " ('entry', 12194),\n",
       " ('etc', 11192),\n",
       " ('hands', 8980),\n",
       " ('feet', 8980),\n",
       " ('fist', 8980),\n",
       " ('agg', 8957),\n",
       " ('residence', 7646),\n",
       " ('violence', 7408),\n",
       " ('domestic', 7408),\n",
       " ('structure', 5554),\n",
       " ('adw', 5485),\n",
       " ('night', 4994),\n",
       " ('felony', 4761),\n",
       " ('day', 4081),\n",
       " ('unknown', 3907),\n",
       " ('strong', 2615),\n",
       " ('arm', 2615)]"
      ]
     },
     "execution_count": 6,
     "metadata": {},
     "output_type": "execute_result"
    }
   ],
   "source": [
    "print(len(terms))\n",
    "terms = Counter(terms)\n",
    "terms.most_common(20)"
   ]
  },
  {
   "cell_type": "code",
   "execution_count": 7,
   "metadata": {
    "collapsed": true
   },
   "outputs": [],
   "source": [
    "def set_spec(df):\n",
    "    for term in ['gun','shooting','knife','carjacking','kidnapping']:\n",
    "        df[term] = df['stat_desc'].apply(lambda x: 1 if term in x else 0)\n",
    "    df['gun'] = df.apply(lambda r: 1 if r['shooting'] == 1 else r['gun'], axis = 1)\n",
    "\n",
    "set_spec(sample)"
   ]
  },
  {
   "cell_type": "code",
   "execution_count": 8,
   "metadata": {
    "collapsed": true
   },
   "outputs": [],
   "source": [
    "def set_violent(r):\n",
    "    value = 0\n",
    "    if r['category'] in violent:\n",
    "        value = 1\n",
    "    if r['kidnapping'] == 1:\n",
    "        value = 1\n",
    "    if 'by force' in r['stat_desc']:\n",
    "        value = 1\n",
    "    elif 'no force' in r['stat_desc']:\n",
    "        value = 0\n",
    "    return value\n",
    "\n",
    "sample['violent'] = sample.apply(set_violent, axis = 1)"
   ]
  },
  {
   "cell_type": "code",
   "execution_count": 9,
   "metadata": {},
   "outputs": [
    {
     "data": {
      "text/html": [
       "<div>\n",
       "<style>\n",
       "    .dataframe thead tr:only-child th {\n",
       "        text-align: right;\n",
       "    }\n",
       "\n",
       "    .dataframe thead th {\n",
       "        text-align: left;\n",
       "    }\n",
       "\n",
       "    .dataframe tbody tr th {\n",
       "        vertical-align: top;\n",
       "    }\n",
       "</style>\n",
       "<table border=\"1\" class=\"dataframe\">\n",
       "  <thead>\n",
       "    <tr style=\"text-align: right;\">\n",
       "      <th></th>\n",
       "      <th>category</th>\n",
       "      <th>stat_desc</th>\n",
       "      <th>aggravated</th>\n",
       "      <th>violent</th>\n",
       "      <th>gun</th>\n",
       "      <th>shooting</th>\n",
       "      <th>knife</th>\n",
       "      <th>carjacking</th>\n",
       "      <th>kidnapping</th>\n",
       "    </tr>\n",
       "  </thead>\n",
       "  <tbody>\n",
       "    <tr>\n",
       "      <th>53881</th>\n",
       "      <td>assault</td>\n",
       "      <td>assault, aggravated: adw - hands, feet, fist, ...</td>\n",
       "      <td>1</td>\n",
       "      <td>1</td>\n",
       "      <td>0</td>\n",
       "      <td>0</td>\n",
       "      <td>0</td>\n",
       "      <td>0</td>\n",
       "      <td>0</td>\n",
       "    </tr>\n",
       "    <tr>\n",
       "      <th>53889</th>\n",
       "      <td>assault</td>\n",
       "      <td>assault, aggravated: adw - knife</td>\n",
       "      <td>1</td>\n",
       "      <td>1</td>\n",
       "      <td>0</td>\n",
       "      <td>0</td>\n",
       "      <td>1</td>\n",
       "      <td>0</td>\n",
       "      <td>0</td>\n",
       "    </tr>\n",
       "    <tr>\n",
       "      <th>53895</th>\n",
       "      <td>vandalism</td>\n",
       "      <td>vandalism felony</td>\n",
       "      <td>0</td>\n",
       "      <td>1</td>\n",
       "      <td>0</td>\n",
       "      <td>0</td>\n",
       "      <td>0</td>\n",
       "      <td>0</td>\n",
       "      <td>0</td>\n",
       "    </tr>\n",
       "    <tr>\n",
       "      <th>53896</th>\n",
       "      <td>assault</td>\n",
       "      <td>assault, non-agg: hands, feet, fist, etc.</td>\n",
       "      <td>0</td>\n",
       "      <td>1</td>\n",
       "      <td>0</td>\n",
       "      <td>0</td>\n",
       "      <td>0</td>\n",
       "      <td>0</td>\n",
       "      <td>0</td>\n",
       "    </tr>\n",
       "  </tbody>\n",
       "</table>\n",
       "</div>"
      ],
      "text/plain": [
       "        category                                          stat_desc  \\\n",
       "53881    assault  assault, aggravated: adw - hands, feet, fist, ...   \n",
       "53889    assault                   assault, aggravated: adw - knife   \n",
       "53895  vandalism                                   vandalism felony   \n",
       "53896    assault          assault, non-agg: hands, feet, fist, etc.   \n",
       "\n",
       "       aggravated  violent  gun  shooting  knife  carjacking  kidnapping  \n",
       "53881           1        1    0         0      0           0           0  \n",
       "53889           1        1    0         0      1           0           0  \n",
       "53895           0        1    0         0      0           0           0  \n",
       "53896           0        1    0         0      0           0           0  "
      ]
     },
     "execution_count": 9,
     "metadata": {},
     "output_type": "execute_result"
    }
   ],
   "source": [
    "f = ['category','stat_desc','aggravated','violent','gun','shooting','knife','carjacking','kidnapping']\n",
    "n = np.random.randint(0, len(sample) - 20)\n",
    "sample[sample['violent'] != 0].loc[n:n + 20, f]"
   ]
  },
  {
   "cell_type": "markdown",
   "metadata": {},
   "source": [
    "### 2. Temporal"
   ]
  },
  {
   "cell_type": "code",
   "execution_count": 10,
   "metadata": {},
   "outputs": [
    {
     "name": "stdout",
     "output_type": "stream",
     "text": [
      "139151\n",
      "135981\n"
     ]
    }
   ],
   "source": [
    "print(len(sample))\n",
    "sample = sample[sample['year'] == YEAR]\n",
    "print(len(sample))"
   ]
  },
  {
   "cell_type": "code",
   "execution_count": 11,
   "metadata": {
    "collapsed": true
   },
   "outputs": [],
   "source": [
    "trends = sample\\\n",
    "    .groupby(['incident_date','violent']).size()\\\n",
    "    .reset_index(name = 'total')\n",
    "\n",
    "trends['incident_date'] = trends['incident_date'].apply(lambda x: str(x))\n",
    "trends['violent'] = trends['violent'].apply(lambda x: 'Violent' if x == 1 else 'Non-Violent')"
   ]
  },
  {
   "cell_type": "code",
   "execution_count": 12,
   "metadata": {},
   "outputs": [
    {
     "data": {
      "text/html": [
       "\n",
       "        <iframe\n",
       "            width=\"100%\"\n",
       "            height=\"350\"\n",
       "            src=\"http://192.168.1.145:7004/d3/static-line-59c8c4287b269c620af15d1653a7c4d2\"\n",
       "            frameborder=\"0\"\n",
       "            allowfullscreen\n",
       "        ></iframe>\n",
       "        "
      ],
      "text/plain": [
       "<IPython.lib.display.IFrame at 0x7f768ce5be80>"
      ]
     },
     "execution_count": 12,
     "metadata": {},
     "output_type": "execute_result"
    }
   ],
   "source": [
    "viz.static(trends.to_json(orient='records'), type='line', height=350, width='100%',\n",
    "           x = 'incident_date',\n",
    "           y = 'total',\n",
    "           z = 'violent',\n",
    "           colormap = { 'Violent':'crimson', 'Non-Violent':'gray' },\n",
    "           title = '{} Violent vs. Non-Violent Criminal Incidents Daily Count'.format(YEAR))"
   ]
  },
  {
   "cell_type": "code",
   "execution_count": 13,
   "metadata": {
    "collapsed": true
   },
   "outputs": [],
   "source": [
    "# missing time flagged with -1\n",
    "# we might decide to add ucertain time to this category too\n",
    "def time_uncertain(x):\n",
    "    #if x == 0: return -1\n",
    "    #if x == 12: return -1\n",
    "    return x\n",
    "\n",
    "sample['hour'] = sample['hour'].apply(time_uncertain)"
   ]
  },
  {
   "cell_type": "code",
   "execution_count": 14,
   "metadata": {},
   "outputs": [
    {
     "data": {
      "text/html": [
       "\n",
       "        <iframe\n",
       "            width=\"95%\"\n",
       "            height=\"300\"\n",
       "            src=\"http://192.168.1.145:7004/d3/static-matrix-cda5814c50a7883eb308687a6f43e8ed\"\n",
       "            frameborder=\"0\"\n",
       "            allowfullscreen\n",
       "        ></iframe>\n",
       "        "
      ],
      "text/plain": [
       "<IPython.lib.display.IFrame at 0x7f768ce695c0>"
      ]
     },
     "execution_count": 14,
     "metadata": {},
     "output_type": "execute_result"
    }
   ],
   "source": [
    "viz.static(sample[(sample['violent'] == 1)][['weekday','hour']].to_json(orient='records'),\n",
    "           type = 'matrix', height = 300, width = '95%',\n",
    "           x = 'hour',\n",
    "           y = 'weekday',\n",
    "           colormap = ['lightgray','crimson'],\n",
    "           xlabel = 'Day Time',\n",
    "           ylabel = 'Week Time',\n",
    "           title = '{} Violent Incidents Heatmap'.format(YEAR),\n",
    "           xbins = 25,\n",
    "           ybins = 7,\n",
    "           zbins = 3)"
   ]
  },
  {
   "cell_type": "code",
   "execution_count": 15,
   "metadata": {},
   "outputs": [
    {
     "name": "stdout",
     "output_type": "stream",
     "text": [
      "135981\n",
      "135981\n"
     ]
    }
   ],
   "source": [
    "print(len(sample))\n",
    "sample = sample[sample['hour'] != -1]\n",
    "print(len(sample))"
   ]
  },
  {
   "cell_type": "markdown",
   "metadata": {},
   "source": [
    "### 3. Spacial"
   ]
  },
  {
   "cell_type": "code",
   "execution_count": 16,
   "metadata": {},
   "outputs": [
    {
     "data": {
      "text/html": [
       "\n",
       "        <iframe\n",
       "            width=\"95%\"\n",
       "            height=\"400\"\n",
       "            src=\"http://192.168.1.145:7004/d3/static-matrix-ec4f4b97d0fb40f2e72cdbcd07e0f253\"\n",
       "            frameborder=\"0\"\n",
       "            allowfullscreen\n",
       "        ></iframe>\n",
       "        "
      ],
      "text/plain": [
       "<IPython.lib.display.IFrame at 0x7f768ce5b828>"
      ]
     },
     "execution_count": 16,
     "metadata": {},
     "output_type": "execute_result"
    }
   ],
   "source": [
    "viz.static(sample[sample['category'] == 'homicide'][['latitude','longitude']].to_json(orient='records'),\n",
    "           type = 'matrix', height = 400, width = '95%',\n",
    "           x = 'longitude',\n",
    "           y = 'latitude',\n",
    "           colormap = ['lightgray','crimson'],\n",
    "           xlabel = 'Longitude',\n",
    "           ylabel = 'Latitude',\n",
    "           title = '{} Homicide Incidents Heatmap'.format(YEAR),\n",
    "           xbins = 20,\n",
    "           ybins = 20,\n",
    "           zbins = 5)"
   ]
  },
  {
   "cell_type": "code",
   "execution_count": 17,
   "metadata": {},
   "outputs": [
    {
     "data": {
      "text/html": [
       "\n",
       "        <iframe\n",
       "            width=\"95%\"\n",
       "            height=\"400\"\n",
       "            src=\"http://192.168.1.145:7004/d3/static-matrix-3121675e9ec07068f9756daf2878495c\"\n",
       "            frameborder=\"0\"\n",
       "            allowfullscreen\n",
       "        ></iframe>\n",
       "        "
      ],
      "text/plain": [
       "<IPython.lib.display.IFrame at 0x7f768ce69518>"
      ]
     },
     "execution_count": 17,
     "metadata": {},
     "output_type": "execute_result"
    }
   ],
   "source": [
    "viz.static(sample[sample['knife'] == 1][['latitude','longitude']].to_json(orient='records'),\n",
    "           type = 'matrix', height = 400, width = '95%',\n",
    "           x = 'longitude',\n",
    "           y = 'latitude',\n",
    "           colormap = ['lightgray','crimson'],\n",
    "           xlabel = 'Longitude',\n",
    "           ylabel = 'Latitude',\n",
    "           title = '{} Knife-Incidents Heatmap'.format(YEAR),\n",
    "           xbins = 20,\n",
    "           ybins = 20,\n",
    "           zbins = 5)"
   ]
  },
  {
   "cell_type": "code",
   "execution_count": 18,
   "metadata": {},
   "outputs": [
    {
     "data": {
      "text/html": [
       "\n",
       "        <iframe\n",
       "            width=\"95%\"\n",
       "            height=\"400\"\n",
       "            src=\"http://192.168.1.145:7004/d3/static-matrix-1353f29f804a8694dbdc37b91c4157d5\"\n",
       "            frameborder=\"0\"\n",
       "            allowfullscreen\n",
       "        ></iframe>\n",
       "        "
      ],
      "text/plain": [
       "<IPython.lib.display.IFrame at 0x7f768cdbafd0>"
      ]
     },
     "execution_count": 18,
     "metadata": {},
     "output_type": "execute_result"
    }
   ],
   "source": [
    "viz.static(sample[sample['gun'] == 1][['latitude','longitude']].to_json(orient='records'),\n",
    "           type = 'matrix', height = 400, width = '95%',\n",
    "           x = 'longitude',\n",
    "           y = 'latitude',\n",
    "           colormap = ['lightgray','crimson'],\n",
    "           xlabel = 'Longitude',\n",
    "           ylabel = 'Latitude',\n",
    "           title = '{} Gun-Incidents Heatmap'.format(YEAR),\n",
    "           xbins = 20,\n",
    "           ybins = 20,\n",
    "           zbins = 5)"
   ]
  },
  {
   "cell_type": "code",
   "execution_count": 19,
   "metadata": {},
   "outputs": [
    {
     "data": {
      "text/html": [
       "\n",
       "        <iframe\n",
       "            width=\"95%\"\n",
       "            height=\"400\"\n",
       "            src=\"http://192.168.1.145:7004/d3/static-matrix-c0666d2cae541b592868ae3c79d13207\"\n",
       "            frameborder=\"0\"\n",
       "            allowfullscreen\n",
       "        ></iframe>\n",
       "        "
      ],
      "text/plain": [
       "<IPython.lib.display.IFrame at 0x7f768ce4b940>"
      ]
     },
     "execution_count": 19,
     "metadata": {},
     "output_type": "execute_result"
    }
   ],
   "source": [
    "viz.static(sample[sample['category'] == 'rape'][['latitude','longitude']].to_json(orient='records'),\n",
    "           type = 'matrix', height = 400, width = '95%',\n",
    "           x = 'longitude',\n",
    "           y = 'latitude',\n",
    "           colormap = ['lightgray','crimson'],\n",
    "           xlabel = 'Longitude',\n",
    "           ylabel = 'Latitude',\n",
    "           title = '{} Rape-Incidents Heatmap'.format(YEAR),\n",
    "           xbins = 20,\n",
    "           ybins = 20,\n",
    "           zbins = 5)"
   ]
  },
  {
   "cell_type": "code",
   "execution_count": 19,
   "metadata": {},
   "outputs": [
    {
     "data": {
      "text/plain": [
       "Index(['category', 'stat', 'stat_desc', 'city', 'zip', 'year', 'month', 'day',\n",
       "       'weekday', 'hour', 'longitude', 'latitude', 'gang_related',\n",
       "       'aggravated', 'incident_date', 'gun', 'shooting', 'knife', 'carjacking',\n",
       "       'kidnapping', 'violent'],\n",
       "      dtype='object')"
      ]
     },
     "execution_count": 19,
     "metadata": {},
     "output_type": "execute_result"
    }
   ],
   "source": [
    "sample.columns"
   ]
  },
  {
   "cell_type": "code",
   "execution_count": 20,
   "metadata": {
    "collapsed": true
   },
   "outputs": [],
   "source": [
    "keep = ['category', 'city', 'zip', 'year', 'month', 'day',\n",
    "        'weekday', 'hour', 'longitude', 'latitude', 'gang_related',\n",
    "        'aggravated', 'incident_date', 'gun', 'shooting', 'knife', 'carjacking',\n",
    "        'kidnapping', 'violent']"
   ]
  },
  {
   "cell_type": "code",
   "execution_count": 21,
   "metadata": {},
   "outputs": [
    {
     "name": "stdout",
     "output_type": "stream",
     "text": [
      "2005 --- using 77.04%\n",
      "2006 --- using 75.42%\n",
      "2007 --- using 74.11%\n",
      "2008 --- using 72.51%\n",
      "2009 --- using 73.00%\n",
      "2010 --- using 73.88%\n",
      "2011 --- using 78.24%\n",
      "2012 --- using 80.53%\n",
      "2013 --- using 81.34%\n",
      "2014 --- using 82.35%\n",
      "2015 --- using 77.95%\n",
      "2016 --- using 77.51%\n"
     ]
    }
   ],
   "source": [
    "# process all\n",
    "for YEAR in range(2005, 2017):\n",
    "    df = pd.read_csv('data/F{}.csv'.format(YEAR))\n",
    "    N = len(df)\n",
    "    df = df[-df['stat_desc'].str.contains('misd')]\n",
    "    set_spec(df)\n",
    "    df['violent'] = df.apply(set_violent, axis = 1)\n",
    "    #df['hour'] = df['hour'].apply(time_uncertain)\n",
    "    #df = df[df['hour'] != -1]\n",
    "    df[keep].to_csv('data/F{}.csv'.format(YEAR), index = False)\n",
    "    print('{} --- using {:.2f}%'.format(YEAR, 100 * len(df)/N))"
   ]
  },
  {
   "cell_type": "code",
   "execution_count": 22,
   "metadata": {
    "collapsed": true
   },
   "outputs": [],
   "source": [
    "import folium\n",
    "from folium.plugins import MarkerCluster\n",
    "\n",
    "MAP = folium.Map(\n",
    "    location = [34.0, -118.2],\n",
    "    tiles = 'Stamen Toner',\n",
    "    zoom_start = 12\n",
    ")\n",
    "\n",
    "cluster = MarkerCluster(\n",
    "    name = 'Clustered homicide-incident locations',\n",
    "    overlay = True,\n",
    "    control = False,\n",
    "    icon_create_function = None\n",
    ")\n",
    "\n",
    "homicide = df[(df['category'] == 'homicide') & (df['year'] == YEAR)]\n",
    "for i in range(len(homicide)):\n",
    "    marker = folium.Marker((homicide['latitude'].values[i], homicide['longitude'].values[i]),\n",
    "                               icon = folium.Icon(color = 'red'))\n",
    "    cluster.add_child(marker)\n",
    "\n",
    "cluster.add_to(MAP)\n",
    "folium.LayerControl().add_to(MAP)\n",
    "\n",
    "MAP.save('{}/LA-crime/node-app/static/Homicide{}.html'.format(os.environ['PROJECTS_HOME'], YEAR))"
   ]
  },
  {
   "cell_type": "code",
   "execution_count": 23,
   "metadata": {},
   "outputs": [
    {
     "data": {
      "text/html": [
       "\n",
       "        <iframe\n",
       "            width=\"100%\"\n",
       "            height=\"500\"\n",
       "            src=\"/projects/LA-crime/Homicide2016.html\"\n",
       "            frameborder=\"0\"\n",
       "            allowfullscreen\n",
       "        ></iframe>\n",
       "        "
      ],
      "text/plain": [
       "<IPython.lib.display.IFrame at 0x7f711ebc14a8>"
      ]
     },
     "execution_count": 23,
     "metadata": {},
     "output_type": "execute_result"
    }
   ],
   "source": [
    "from IPython.display import IFrame\n",
    "IFrame('/projects/LA-crime/Homicide{}.html'.format(YEAR), width='100%', height=500)"
   ]
  },
  {
   "cell_type": "code",
   "execution_count": null,
   "metadata": {
    "collapsed": true
   },
   "outputs": [],
   "source": []
  }
 ],
 "metadata": {
  "kernelspec": {
   "display_name": "Python 3",
   "language": "python",
   "name": "python3"
  },
  "language_info": {
   "codemirror_mode": {
    "name": "ipython",
    "version": 3
   },
   "file_extension": ".py",
   "mimetype": "text/x-python",
   "name": "python",
   "nbconvert_exporter": "python",
   "pygments_lexer": "ipython3",
   "version": "3.5.2"
  }
 },
 "nbformat": 4,
 "nbformat_minor": 2
}
