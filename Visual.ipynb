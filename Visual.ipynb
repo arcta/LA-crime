{
 "cells": [
  {
   "cell_type": "markdown",
   "metadata": {},
   "source": [
    "# Data Visualization\n",
    "[Visual Explorer for this project](3d-walk)"
   ]
  },
  {
   "cell_type": "code",
   "execution_count": 1,
   "metadata": {},
   "outputs": [],
   "source": [
    "import numpy as np\n",
    "import pandas as pd"
   ]
  },
  {
   "cell_type": "code",
   "execution_count": 2,
   "metadata": {},
   "outputs": [
    {
     "data": {
      "text/html": [
       "<div>\n",
       "<style scoped>\n",
       "    .dataframe tbody tr th:only-of-type {\n",
       "        vertical-align: middle;\n",
       "    }\n",
       "\n",
       "    .dataframe tbody tr th {\n",
       "        vertical-align: top;\n",
       "    }\n",
       "\n",
       "    .dataframe thead th {\n",
       "        text-align: right;\n",
       "    }\n",
       "</style>\n",
       "<table border=\"1\" class=\"dataframe\">\n",
       "  <thead>\n",
       "    <tr style=\"text-align: right;\">\n",
       "      <th></th>\n",
       "      <th>id</th>\n",
       "      <th>stat</th>\n",
       "      <th>category</th>\n",
       "      <th>date</th>\n",
       "      <th>year</th>\n",
       "      <th>month</th>\n",
       "      <th>day</th>\n",
       "      <th>weekday</th>\n",
       "      <th>hour</th>\n",
       "      <th>address</th>\n",
       "      <th>city</th>\n",
       "      <th>zip</th>\n",
       "      <th>lng</th>\n",
       "      <th>lat</th>\n",
       "      <th>gang</th>\n",
       "    </tr>\n",
       "  </thead>\n",
       "  <tbody>\n",
       "    <tr>\n",
       "      <th>0</th>\n",
       "      <td>916-05977-0862</td>\n",
       "      <td>255</td>\n",
       "      <td>vehicle</td>\n",
       "      <td>2016-11-13</td>\n",
       "      <td>2016</td>\n",
       "      <td>11</td>\n",
       "      <td>13</td>\n",
       "      <td>6</td>\n",
       "      <td>14.250000</td>\n",
       "      <td>arrow hwy &amp; calera ave, covina, ca</td>\n",
       "      <td>Covina</td>\n",
       "      <td>91722</td>\n",
       "      <td>-117.884594</td>\n",
       "      <td>34.106730</td>\n",
       "      <td>0</td>\n",
       "    </tr>\n",
       "    <tr>\n",
       "      <th>1</th>\n",
       "      <td>916-16551-1420</td>\n",
       "      <td>93</td>\n",
       "      <td>gta</td>\n",
       "      <td>2016-12-29</td>\n",
       "      <td>2016</td>\n",
       "      <td>12</td>\n",
       "      <td>29</td>\n",
       "      <td>3</td>\n",
       "      <td>9.500000</td>\n",
       "      <td>1500 millbury ave, west valinda, ca</td>\n",
       "      <td>La Puente</td>\n",
       "      <td>91746</td>\n",
       "      <td>-117.971268</td>\n",
       "      <td>34.064801</td>\n",
       "      <td>0</td>\n",
       "    </tr>\n",
       "    <tr>\n",
       "      <th>2</th>\n",
       "      <td>916-07146-2227</td>\n",
       "      <td>315</td>\n",
       "      <td>federal</td>\n",
       "      <td>2016-12-30</td>\n",
       "      <td>2016</td>\n",
       "      <td>12</td>\n",
       "      <td>30</td>\n",
       "      <td>4</td>\n",
       "      <td>15.733333</td>\n",
       "      <td>5800 agoura rd, agoura hills, ca  91301</td>\n",
       "      <td>Agoura Hills</td>\n",
       "      <td>91301</td>\n",
       "      <td>-118.760000</td>\n",
       "      <td>34.120000</td>\n",
       "      <td>0</td>\n",
       "    </tr>\n",
       "    <tr>\n",
       "      <th>3</th>\n",
       "      <td>016-01612-1744</td>\n",
       "      <td>129</td>\n",
       "      <td>sex</td>\n",
       "      <td>2016-04-29</td>\n",
       "      <td>2016</td>\n",
       "      <td>4</td>\n",
       "      <td>29</td>\n",
       "      <td>4</td>\n",
       "      <td>18.250000</td>\n",
       "      <td>30600 palos verdes dr e, rancho palos verdes, ...</td>\n",
       "      <td>Rancho Palos Verdes</td>\n",
       "      <td>90275</td>\n",
       "      <td>-118.330651</td>\n",
       "      <td>33.736982</td>\n",
       "      <td>0</td>\n",
       "    </tr>\n",
       "    <tr>\n",
       "      <th>4</th>\n",
       "      <td>916-06366-1462</td>\n",
       "      <td>255</td>\n",
       "      <td>vehicle</td>\n",
       "      <td>2016-05-19</td>\n",
       "      <td>2016</td>\n",
       "      <td>5</td>\n",
       "      <td>19</td>\n",
       "      <td>3</td>\n",
       "      <td>7.417222</td>\n",
       "      <td>500 duff ave, la puente, ca  91744</td>\n",
       "      <td>La Puente</td>\n",
       "      <td>91744</td>\n",
       "      <td>-117.961194</td>\n",
       "      <td>34.034889</td>\n",
       "      <td>0</td>\n",
       "    </tr>\n",
       "  </tbody>\n",
       "</table>\n",
       "</div>"
      ],
      "text/plain": [
       "               id  stat category        date  year  month  day  weekday  \\\n",
       "0  916-05977-0862   255  vehicle  2016-11-13  2016     11   13        6   \n",
       "1  916-16551-1420    93      gta  2016-12-29  2016     12   29        3   \n",
       "2  916-07146-2227   315  federal  2016-12-30  2016     12   30        4   \n",
       "3  016-01612-1744   129      sex  2016-04-29  2016      4   29        4   \n",
       "4  916-06366-1462   255  vehicle  2016-05-19  2016      5   19        3   \n",
       "\n",
       "        hour                                            address  \\\n",
       "0  14.250000                 arrow hwy & calera ave, covina, ca   \n",
       "1   9.500000                1500 millbury ave, west valinda, ca   \n",
       "2  15.733333            5800 agoura rd, agoura hills, ca  91301   \n",
       "3  18.250000  30600 palos verdes dr e, rancho palos verdes, ...   \n",
       "4   7.417222                 500 duff ave, la puente, ca  91744   \n",
       "\n",
       "                  city    zip         lng        lat  gang  \n",
       "0               Covina  91722 -117.884594  34.106730     0  \n",
       "1            La Puente  91746 -117.971268  34.064801     0  \n",
       "2         Agoura Hills  91301 -118.760000  34.120000     0  \n",
       "3  Rancho Palos Verdes  90275 -118.330651  33.736982     0  \n",
       "4            La Puente  91744 -117.961194  34.034889     0  "
      ]
     },
     "execution_count": 2,
     "metadata": {},
     "output_type": "execute_result"
    }
   ],
   "source": [
    "Y = 2016\n",
    "data = pd.read_csv('data/F{}.csv'.format(Y))\n",
    "data.head()"
   ]
  },
  {
   "cell_type": "code",
   "execution_count": 3,
   "metadata": {},
   "outputs": [
    {
     "data": {
      "text/plain": [
       "<folium.map.LayerControl at 0x7fcb75fc5be0>"
      ]
     },
     "execution_count": 3,
     "metadata": {},
     "output_type": "execute_result"
    }
   ],
   "source": [
    "import folium\n",
    "from folium.plugins import MarkerCluster\n",
    "\n",
    "MAP = folium.Map(\n",
    "    location = [34.0, -118.2],\n",
    "    tiles = 'Stamen Toner',\n",
    "    zoom_start = 12\n",
    ")\n",
    "\n",
    "cluster = MarkerCluster(\n",
    "    name = 'Clustered homicide-incident locations',\n",
    "    overlay = True,\n",
    "    control = False,\n",
    "    icon_create_function = None\n",
    ")\n",
    "\n",
    "homicide = data[(data['category'] == 'homicide') & (data['year'] == Y)]\n",
    "for i in range(len(homicide)):\n",
    "    marker = folium.Marker((homicide['lat'].values[i], homicide['lng'].values[i]),\n",
    "                               icon = folium.Icon(color = 'red'))\n",
    "    cluster.add_child(marker)\n",
    "\n",
    "cluster.add_to(MAP)\n",
    "folium.LayerControl().add_to(MAP)\n",
    "\n",
    "MAP.save('{}/LA-crime/node-app/static/Homicide{}.html'.format(os.environ['PROJECTS_HOME'], YEAR))"
   ]
  },
  {
   "cell_type": "code",
   "execution_count": 4,
   "metadata": {},
   "outputs": [
    {
     "data": {
      "text/html": [
       "\n",
       "        <iframe\n",
       "            width=\"100%\"\n",
       "            height=\"500\"\n",
       "            src=\"/projects/LA-crime/Homicide2016.html\"\n",
       "            frameborder=\"0\"\n",
       "            allowfullscreen\n",
       "        ></iframe>\n",
       "        "
      ],
      "text/plain": [
       "<IPython.lib.display.IFrame at 0x7fcb74a9cd68>"
      ]
     },
     "execution_count": 4,
     "metadata": {},
     "output_type": "execute_result"
    }
   ],
   "source": [
    "from IPython.display import IFrame\n",
    "IFrame('/projects/LA-crime/Homicide{}.html'.format(Y), width='100%', height=500)"
   ]
  },
  {
   "cell_type": "code",
   "execution_count": null,
   "metadata": {},
   "outputs": [],
   "source": []
  }
 ],
 "metadata": {
  "kernelspec": {
   "display_name": "Python 3",
   "language": "python",
   "name": "python3"
  },
  "language_info": {
   "codemirror_mode": {
    "name": "ipython",
    "version": 3
   },
   "file_extension": ".py",
   "mimetype": "text/x-python",
   "name": "python",
   "nbconvert_exporter": "python",
   "pygments_lexer": "ipython3",
   "version": "3.6.3"
  }
 },
 "nbformat": 4,
 "nbformat_minor": 2
}
